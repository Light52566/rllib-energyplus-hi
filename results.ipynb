{
 "cells": [
  {
   "cell_type": "code",
   "execution_count": null,
   "metadata": {},
   "outputs": [],
   "source": [
    "import pickle as pkl\n",
    "import numpy as np\n",
    "import matplotlib.pyplot as plt\n",
    "import pandas as pd\n",
    "\n",
    "from model.human import Human"
   ]
  },
  {
   "cell_type": "code",
   "execution_count": null,
   "metadata": {},
   "outputs": [],
   "source": [
    "sim_histories = []\n",
    "# Read the history from the pickle\n",
    "with open('/tmp/history.pkl', 'rb') as f:\n",
    "    while True:\n",
    "        try:\n",
    "            sim_histories.append(pkl.load(f))\n",
    "        except EOFError:\n",
    "            break\n",
    "        \n",
    "print(\"Number of simulations: \", len(sim_histories))\n",
    "print(\"Number of timesteps per simulation: \", len(sim_histories[0]))\n"
   ]
  },
  {
   "cell_type": "code",
   "execution_count": null,
   "metadata": {},
   "outputs": [],
   "source": [
    "print(sim_histories[0])"
   ]
  },
  {
   "cell_type": "code",
   "execution_count": null,
   "metadata": {},
   "outputs": [],
   "source": [
    "# combine all dicts in sim_histories into one dict\n",
    "sim_histories_combined = {key: [hist[key] for hist in sim_histories] for key in sim_histories[0]}\n",
    "print(\"Keys in the history: \", sim_histories_combined.keys())\n",
    "print(\"Number of timesteps: \", len(sim_histories_combined['reward']))"
   ]
  },
  {
   "cell_type": "code",
   "execution_count": null,
   "metadata": {},
   "outputs": [],
   "source": [
    "# create humans parallel to the training setup for pmv calculation\n",
    "humans = [Human()]\n",
    "sim_histories_combined['pmv'] = []\n",
    "# calculate the pmv for each timestep\n",
    "for i in range(len(sim_histories_combined['reward'])):\n",
    "    pmvs = []\n",
    "    for h in humans:\n",
    "        pmvs.append(h.calcpmv(\n",
    "            tdb=sim_histories_combined['air_tmp'][i],\n",
    "            tr=sim_histories_combined['rad_tmp'][i],\n",
    "            v=0.1,\n",
    "            rh=sim_histories_combined['air_hum'][i],\n",
    "        ))\n",
    "    sim_histories_combined['pmv'].append(pmvs)\n",
    "print(\"Number of timesteps: \", len(sim_histories_combined['pmv']))"
   ]
  },
  {
   "cell_type": "code",
   "execution_count": null,
   "metadata": {},
   "outputs": [],
   "source": [
    "# Extract the relevant data\n",
    "pmv_values = sim_histories_combined['pmv']\n",
    "rewards = sim_histories_combined['reward']\n",
    "\n",
    "# Create a list to store the colors\n",
    "colors = ['red' if reward == -1 else 'green' for reward in rewards]\n",
    "\n",
    "# Plot the PMV vs timestep\n",
    "plt.scatter(range(len(pmv_values)), pmv_values, c=colors)\n",
    "\n",
    "# Set the labels and title\n",
    "plt.xlabel('Timestep')\n",
    "plt.ylabel('PMV')\n",
    "plt.title('PMV vs Timestep')\n",
    "\n",
    "# Show the plot\n",
    "plt.show()"
   ]
  }
 ],
 "metadata": {
  "kernelspec": {
   "display_name": "rl-energyplus-hi-YszVVEjS-py3.10",
   "language": "python",
   "name": "python3"
  },
  "language_info": {
   "codemirror_mode": {
    "name": "ipython",
    "version": 3
   },
   "file_extension": ".py",
   "mimetype": "text/x-python",
   "name": "python",
   "nbconvert_exporter": "python",
   "pygments_lexer": "ipython3",
   "version": "3.10.12"
  }
 },
 "nbformat": 4,
 "nbformat_minor": 2
}
